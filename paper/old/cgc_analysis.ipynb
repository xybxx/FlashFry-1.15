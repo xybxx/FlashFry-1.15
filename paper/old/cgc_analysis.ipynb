{
 "cells": [
  {
   "cell_type": "code",
   "execution_count": 1,
   "metadata": {
    "collapsed": true
   },
   "outputs": [],
   "source": [
    "########################################################\n",
    "#\n",
    "# analyze 443,296 guides from the cancer census list\n",
    "#\n",
    "# Sunday Novermber 26th, 2017\n",
    "#\n",
    "########################################################"
   ]
  },
  {
   "cell_type": "code",
   "execution_count": 2,
   "metadata": {
    "collapsed": true
   },
   "outputs": [],
   "source": [
    "import pandas as pd\n",
    "import numpy as np\n",
    "import seaborn as sns\n",
    "import matplotlib.pyplot as plt\n",
    "%matplotlib inline"
   ]
  },
  {
   "cell_type": "code",
   "execution_count": 3,
   "metadata": {},
   "outputs": [
    {
     "data": {
      "text/html": [
       "<div>\n",
       "<style>\n",
       "    .dataframe thead tr:only-child th {\n",
       "        text-align: right;\n",
       "    }\n",
       "\n",
       "    .dataframe thead th {\n",
       "        text-align: left;\n",
       "    }\n",
       "\n",
       "    .dataframe tbody tr th {\n",
       "        vertical-align: top;\n",
       "    }\n",
       "</style>\n",
       "<table border=\"1\" class=\"dataframe\">\n",
       "  <thead>\n",
       "    <tr style=\"text-align: right;\">\n",
       "      <th></th>\n",
       "      <th>contig</th>\n",
       "      <th>start</th>\n",
       "      <th>stop</th>\n",
       "      <th>target</th>\n",
       "      <th>context</th>\n",
       "      <th>overflow</th>\n",
       "      <th>orientation</th>\n",
       "      <th>dangerous_GC</th>\n",
       "      <th>dangerous_polyT</th>\n",
       "      <th>dangerous_in_genome</th>\n",
       "      <th>Hsu2013</th>\n",
       "      <th>Moreno-Mateos2015OnTarget</th>\n",
       "      <th>AggregateRankedScore_medianRank</th>\n",
       "      <th>AggregateRankedScore_tranche</th>\n",
       "      <th>AggregateRankedScore_topX</th>\n",
       "      <th>otCount</th>\n",
       "    </tr>\n",
       "  </thead>\n",
       "  <tbody>\n",
       "    <tr>\n",
       "      <th>0</th>\n",
       "      <td>ATP2B3__exon__21__2952__X__152845425</td>\n",
       "      <td>0</td>\n",
       "      <td>23</td>\n",
       "      <td>TCACCACCCGGATCTGGAGTGGG</td>\n",
       "      <td>ACGCTTTCACCACCCGGATCTGGAGTGGG</td>\n",
       "      <td>OK</td>\n",
       "      <td>RVS</td>\n",
       "      <td>NONE</td>\n",
       "      <td>NONE</td>\n",
       "      <td>IN_GENOME=1</td>\n",
       "      <td>81.498087</td>\n",
       "      <td>NaN</td>\n",
       "      <td>298563</td>\n",
       "      <td>3</td>\n",
       "      <td>NaN</td>\n",
       "      <td>110</td>\n",
       "    </tr>\n",
       "    <tr>\n",
       "      <th>1</th>\n",
       "      <td>AKT2__exon__7__66__19__40745941</td>\n",
       "      <td>0</td>\n",
       "      <td>23</td>\n",
       "      <td>GGCAACTCACAGTGAGGAACGGG</td>\n",
       "      <td>GGCAACTCACAGTGAGGAACGGGTGCCTG</td>\n",
       "      <td>OK</td>\n",
       "      <td>FWD</td>\n",
       "      <td>NONE</td>\n",
       "      <td>NONE</td>\n",
       "      <td>IN_GENOME=1</td>\n",
       "      <td>70.902241</td>\n",
       "      <td>NaN</td>\n",
       "      <td>369177</td>\n",
       "      <td>4</td>\n",
       "      <td>NaN</td>\n",
       "      <td>187</td>\n",
       "    </tr>\n",
       "    <tr>\n",
       "      <th>2</th>\n",
       "      <td>AKT2__exon__4__112__19__40761054</td>\n",
       "      <td>0</td>\n",
       "      <td>23</td>\n",
       "      <td>CTCCAGACGAGAGGTCAGTCTGG</td>\n",
       "      <td>TGGATTCTCCAGACGAGAGGTCAGTCTGG</td>\n",
       "      <td>OK</td>\n",
       "      <td>RVS</td>\n",
       "      <td>NONE</td>\n",
       "      <td>NONE</td>\n",
       "      <td>IN_GENOME=1</td>\n",
       "      <td>53.417397</td>\n",
       "      <td>NaN</td>\n",
       "      <td>415640</td>\n",
       "      <td>4</td>\n",
       "      <td>NaN</td>\n",
       "      <td>116</td>\n",
       "    </tr>\n",
       "    <tr>\n",
       "      <th>3</th>\n",
       "      <td>KMT2D__exon__49__137__12__49418582</td>\n",
       "      <td>0</td>\n",
       "      <td>23</td>\n",
       "      <td>CATAGCTGAATCAGTAAGGAAGG</td>\n",
       "      <td>GCTTCGCATAGCTGAATCAGTAAGGAAGG</td>\n",
       "      <td>OK</td>\n",
       "      <td>RVS</td>\n",
       "      <td>NONE</td>\n",
       "      <td>NONE</td>\n",
       "      <td>IN_GENOME=1</td>\n",
       "      <td>75.626711</td>\n",
       "      <td>NaN</td>\n",
       "      <td>340930</td>\n",
       "      <td>4</td>\n",
       "      <td>NaN</td>\n",
       "      <td>136</td>\n",
       "    </tr>\n",
       "    <tr>\n",
       "      <th>4</th>\n",
       "      <td>KMT2D__exon__47__128__12__49421575</td>\n",
       "      <td>0</td>\n",
       "      <td>23</td>\n",
       "      <td>CCAGACCTACCTGTTTCAGGAGG</td>\n",
       "      <td>CCAGACCTACCTGTTTCAGGAGGCTCAAG</td>\n",
       "      <td>OK</td>\n",
       "      <td>FWD</td>\n",
       "      <td>NONE</td>\n",
       "      <td>NONE</td>\n",
       "      <td>IN_GENOME=1</td>\n",
       "      <td>82.756571</td>\n",
       "      <td>NaN</td>\n",
       "      <td>289243</td>\n",
       "      <td>3</td>\n",
       "      <td>NaN</td>\n",
       "      <td>133</td>\n",
       "    </tr>\n",
       "  </tbody>\n",
       "</table>\n",
       "</div>"
      ],
      "text/plain": [
       "                                 contig  start  stop                   target  \\\n",
       "0  ATP2B3__exon__21__2952__X__152845425      0    23  TCACCACCCGGATCTGGAGTGGG   \n",
       "1       AKT2__exon__7__66__19__40745941      0    23  GGCAACTCACAGTGAGGAACGGG   \n",
       "2      AKT2__exon__4__112__19__40761054      0    23  CTCCAGACGAGAGGTCAGTCTGG   \n",
       "3    KMT2D__exon__49__137__12__49418582      0    23  CATAGCTGAATCAGTAAGGAAGG   \n",
       "4    KMT2D__exon__47__128__12__49421575      0    23  CCAGACCTACCTGTTTCAGGAGG   \n",
       "\n",
       "                         context overflow orientation dangerous_GC  \\\n",
       "0  ACGCTTTCACCACCCGGATCTGGAGTGGG       OK         RVS         NONE   \n",
       "1  GGCAACTCACAGTGAGGAACGGGTGCCTG       OK         FWD         NONE   \n",
       "2  TGGATTCTCCAGACGAGAGGTCAGTCTGG       OK         RVS         NONE   \n",
       "3  GCTTCGCATAGCTGAATCAGTAAGGAAGG       OK         RVS         NONE   \n",
       "4  CCAGACCTACCTGTTTCAGGAGGCTCAAG       OK         FWD         NONE   \n",
       "\n",
       "  dangerous_polyT dangerous_in_genome    Hsu2013  Moreno-Mateos2015OnTarget  \\\n",
       "0            NONE         IN_GENOME=1  81.498087                        NaN   \n",
       "1            NONE         IN_GENOME=1  70.902241                        NaN   \n",
       "2            NONE         IN_GENOME=1  53.417397                        NaN   \n",
       "3            NONE         IN_GENOME=1  75.626711                        NaN   \n",
       "4            NONE         IN_GENOME=1  82.756571                        NaN   \n",
       "\n",
       "   AggregateRankedScore_medianRank  AggregateRankedScore_tranche  \\\n",
       "0                           298563                             3   \n",
       "1                           369177                             4   \n",
       "2                           415640                             4   \n",
       "3                           340930                             4   \n",
       "4                           289243                             3   \n",
       "\n",
       "   AggregateRankedScore_topX  otCount  \n",
       "0                        NaN      110  \n",
       "1                        NaN      187  \n",
       "2                        NaN      116  \n",
       "3                        NaN      136  \n",
       "4                        NaN      133  "
      ]
     },
     "execution_count": 3,
     "metadata": {},
     "output_type": "execute_result"
    }
   ],
   "source": [
    "df = pd.read_csv(\"census_exons.fasta.scores_simple\",sep=\"\\t\")\n",
    "\n",
    "df.head()"
   ]
  },
  {
   "cell_type": "code",
   "execution_count": 4,
   "metadata": {
    "collapsed": true
   },
   "outputs": [],
   "source": [
    "exon_numbers = [int(x.split(\"__\")[2]) if (\"|\" not in x) else int(x.split(\"|\")[0].split(\"__\")[2]) for x in df['contig']]\n",
    "df['exon'] = pd.Series(exon_numbers, index=df.index)\n",
    "\n",
    "genes_numbers = [x.split(\"__\")[0] if (\"|\" not in x) else x.split(\"|\")[0].split(\"__\")[0] for x in df['contig']]\n",
    "df['gene'] = pd.Series(genes_numbers, index=df.index)\n",
    "\n",
    "exon_genes = []\n",
    "for exon,gene in zip(exon_numbers,genes_numbers):\n",
    "    exon_genes.append(gene + \"_\" + str(exon))\n",
    "    \n",
    "df['gene_exon'] = pd.Series(exon_genes, index=df.index)\n",
    "\n",
    "exon_length = [x.split(\"__\")[3] if (\"|\" not in x) else x.split(\"|\")[0].split(\"__\")[3] for x in df['contig']]\n",
    "df['exon_length'] = pd.Series(exon_length, index=df.index)"
   ]
  },
  {
   "cell_type": "code",
   "execution_count": 5,
   "metadata": {},
   "outputs": [
    {
     "data": {
      "text/plain": [
       "count     426560\n",
       "unique         2\n",
       "top         NONE\n",
       "freq      399074\n",
       "Name: dangerous_polyT, dtype: object"
      ]
     },
     "execution_count": 5,
     "metadata": {},
     "output_type": "execute_result"
    }
   ],
   "source": [
    "df['dangerous_polyT'].describe()"
   ]
  },
  {
   "cell_type": "code",
   "execution_count": 6,
   "metadata": {
    "collapsed": true
   },
   "outputs": [],
   "source": [
    "df.to_csv(\"data_with_exons.txt\",sep=\"\\t\")"
   ]
  }
 ],
 "metadata": {
  "kernelspec": {
   "display_name": "Python 2",
   "language": "python",
   "name": "python2"
  },
  "language_info": {
   "codemirror_mode": {
    "name": "ipython",
    "version": 2
   },
   "file_extension": ".py",
   "mimetype": "text/x-python",
   "name": "python",
   "nbconvert_exporter": "python",
   "pygments_lexer": "ipython2",
   "version": "2.7.13"
  }
 },
 "nbformat": 4,
 "nbformat_minor": 2
}
